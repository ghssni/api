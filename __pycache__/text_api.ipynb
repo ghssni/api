{
 "cells": [
  {
   "cell_type": "code",
   "execution_count": 1,
   "metadata": {},
   "outputs": [],
   "source": [
    "import requests\n",
    "from pprint import pprint"
   ]
  },
  {
   "cell_type": "code",
   "execution_count": 2,
   "metadata": {},
   "outputs": [
    {
     "name": "stdout",
     "output_type": "stream",
     "text": [
      "{'menu': {'1': 'See shopping cart (/cart)',\n",
      "          '2': 'Add item (/add) - You may need request',\n",
      "          '3': 'Edit shopping cart (/edit/id)',\n",
      "          '4': 'Delete item from shopping cart (/del/id)'},\n",
      " 'message': 'Welcome to Toko H8 Shopping Cart! There are some features that '\n",
      "            'you can explore'}\n"
     ]
    }
   ],
   "source": [
    "url = 'http://127.0.0.1:8000/'\n",
    "response = requests.get(url)\n",
    "pprint(response.json())"
   ]
  },
  {
   "cell_type": "code",
   "execution_count": 3,
   "metadata": {},
   "outputs": [
    {
     "name": "stdout",
     "output_type": "stream",
     "text": [
      "{'columns': ['prod_name', 'price', 'num_items'],\n",
      " 'items': {},\n",
      " 'name': 'shopping cart'}\n"
     ]
    }
   ],
   "source": [
    "url = 'http://127.0.0.1:8000/cart'\n",
    "response = requests.get(url)\n",
    "pprint(response.json())"
   ]
  },
  {
   "cell_type": "code",
   "execution_count": 6,
   "metadata": {},
   "outputs": [
    {
     "name": "stdout",
     "output_type": "stream",
     "text": [
      "'Item successfully added into your cart with ID 1'\n"
     ]
    }
   ],
   "source": [
    "url = 'http://127.0.0.1:8000/add'\n",
    "response = requests.post(url,\n",
    "                         json={\n",
    "                             'prod_name': 'mi',\n",
    "                             'price': 10,\n",
    "                             'num_list':2\n",
    "                         })\n",
    "pprint(response.json())"
   ]
  },
  {
   "cell_type": "code",
   "execution_count": 7,
   "metadata": {},
   "outputs": [
    {
     "name": "stdout",
     "output_type": "stream",
     "text": [
      "{'message': 'Item with ID 1 has been updated successfully.'}\n"
     ]
    }
   ],
   "source": [
    "url = 'http://127.0.0.1:8000/edit/1'\n",
    "response = requests.put(url,\n",
    "                         json={\n",
    "                             'prod_name': 'nasi',\n",
    "                             'price': 10,\n",
    "                             'num_list':2\n",
    "                         })\n",
    "pprint(response.json())"
   ]
  },
  {
   "cell_type": "code",
   "execution_count": 8,
   "metadata": {},
   "outputs": [
    {
     "name": "stdout",
     "output_type": "stream",
     "text": [
      "{'message': 'Item with ID 1 has been deleted successfully.'}\n"
     ]
    }
   ],
   "source": [
    "url = 'http://127.0.0.1:8000/del/1'\n",
    "response = requests.delete(url)\n",
    "pprint(response.json())"
   ]
  }
 ],
 "metadata": {
  "kernelspec": {
   "display_name": "base",
   "language": "python",
   "name": "python3"
  },
  "language_info": {
   "codemirror_mode": {
    "name": "ipython",
    "version": 3
   },
   "file_extension": ".py",
   "mimetype": "text/x-python",
   "name": "python",
   "nbconvert_exporter": "python",
   "pygments_lexer": "ipython3",
   "version": "3.9.13"
  }
 },
 "nbformat": 4,
 "nbformat_minor": 2
}
